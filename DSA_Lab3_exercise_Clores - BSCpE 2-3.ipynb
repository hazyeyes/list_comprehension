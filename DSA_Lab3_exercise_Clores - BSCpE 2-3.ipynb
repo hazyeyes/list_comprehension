{
 "cells": [
  {
   "cell_type": "markdown",
   "metadata": {},
   "source": [
    "## Lab exercise 1\n",
    "\n",
    "from a given list of integers, create a new list using comprehension that will compute the square of odd integer elements.\n",
    "\n",
    "sample calls\n",
    "\n",
    "[2,4,3] == [9]\n",
    "\n",
    "[0,0,1,1] == [1,1]"
   ]
  },
  {
   "cell_type": "code",
   "execution_count": null,
   "metadata": {},
   "outputs": [],
   "source": [
    "int_nums = input(\"Enter the elements separated by space: \").split()\n",
    "    \n",
    "elements = [int(num) for num in int_nums]\n",
    "\n",
    "square_list = [x*x for x in elements if x % 2 != 0]\n",
    "\n",
    "print(elements)\n",
    "print(square_list)"
   ]
  },
  {
   "cell_type": "markdown",
   "metadata": {},
   "source": [
    "## Lab exercise 2\n",
    "\n",
    "Using comprehension,create a new list of tuples from two given lists:\n",
    "\n",
    "### sample calls\n",
    "\n",
    "list1[1,2,3]\n",
    "\n",
    "list2[\"mark\",\"alice\",\"john]\n",
    "\n",
    "result: listOfTuple[(1,\"mark\"),(2,\"alice\"),(3,\"john\")] "
   ]
  },
  {
   "cell_type": "code",
   "execution_count": null,
   "metadata": {},
   "outputs": [],
   "source": [
    "list1 = [1,2,3]\n",
    "list2 = [\"mark\",\"alice\",\"john\"]\n",
    "\n",
    "listOfTuple = [(list1[i], list2[i]) for i in range(len(list1))]\n",
    "\n",
    "print(f\"listOfTuple {listOfTuple}\")"
   ]
  },
  {
   "cell_type": "markdown",
   "metadata": {},
   "source": [
    "## Lab exercise 3\n",
    "### Provide a list comprehension that implementation for a function called vowelsToUpper with the following signature:\n",
    "\n",
    "method name : vowelsToUpper\n",
    "\n",
    "input argument : String \n",
    "\n",
    "return argument : String\n",
    "\n",
    "vowelsToUpper must return a version of its String argument with all its vowels changed to their uppercase forms. Nonvowel characters stay as is.\n",
    "\n",
    "### Sample Calls\n",
    "\n",
    "vowelsToUpper \"\" == \"\"\n",
    "\n",
    "vowelsToUpper \"Hello, world!\" == \"HEllO, wOrld!\"\n",
    "\n",
    "vowelsToUpper \"hello hi bye\" == \"hEllO hI byE\""
   ]
  },
  {
   "cell_type": "code",
   "execution_count": null,
   "metadata": {},
   "outputs": [],
   "source": [
    "def vowelsToUpper(vowel):\n",
    "    vowels = (\"a\",\"e\",\"i\",\"o\",\"u\")\n",
    "    new_str = [i.upper() if i in vowels else i for i in vowel]\n",
    "    print(f\"vowelsToUpper \\\"{vowel}\\\" == \\\"{\"\".join(new_str)}\\\"\")\n",
    "\n",
    "vowelsToUpper(input(\"Enter a word: \"))"
   ]
  }
 ],
 "metadata": {
  "kernelspec": {
   "display_name": "Python 3",
   "language": "python",
   "name": "python3"
  },
  "language_info": {
   "codemirror_mode": {
    "name": "ipython",
    "version": 3
   },
   "file_extension": ".py",
   "mimetype": "text/x-python",
   "name": "python",
   "nbconvert_exporter": "python",
   "pygments_lexer": "ipython3",
   "version": "3.12.6"
  }
 },
 "nbformat": 4,
 "nbformat_minor": 2
}
